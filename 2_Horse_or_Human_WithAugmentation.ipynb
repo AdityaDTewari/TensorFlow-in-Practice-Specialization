{
  "nbformat": 4,
  "nbformat_minor": 0,
  "metadata": {
    "colab": {
      "name": "2. Horse-or-Human-WithAugmentation.ipynb",
      "version": "0.3.2",
      "provenance": [],
      "collapsed_sections": [],
      "toc_visible": true,
      "include_colab_link": true
    },
    "kernelspec": {
      "name": "python3",
      "display_name": "Python 3"
    },
    "accelerator": "GPU"
  },
  "cells": [
    {
      "cell_type": "markdown",
      "metadata": {
        "id": "view-in-github",
        "colab_type": "text"
      },
      "source": [
        "<a href=\"https://colab.research.google.com/github/AdityaDTewari/TensorFlow-in-Practice-Specialization/blob/master/2_Horse_or_Human_WithAugmentation.ipynb\" target=\"_parent\"><img src=\"https://colab.research.google.com/assets/colab-badge.svg\" alt=\"Open In Colab\"/></a>"
      ]
    },
    {
      "cell_type": "code",
      "metadata": {
        "colab_type": "code",
        "id": "RXZT2UsyIVe_",
        "outputId": "04a515e5-9d8f-4311-98b8-717b70f57242",
        "colab": {
          "base_uri": "https://localhost:8080/",
          "height": 386
        }
      },
      "source": [
        "!wget --no-check-certificate \\\n",
        "    https://storage.googleapis.com/laurencemoroney-blog.appspot.com/horse-or-human.zip \\\n",
        "    -O /tmp/horse-or-human.zip\n",
        "\n",
        "!wget --no-check-certificate \\\n",
        "    https://storage.googleapis.com/laurencemoroney-blog.appspot.com/validation-horse-or-human.zip \\\n",
        "    -O /tmp/validation-horse-or-human.zip\n",
        "  \n",
        "import os\n",
        "import zipfile\n",
        "\n",
        "local_zip = '/tmp/horse-or-human.zip'\n",
        "zip_ref = zipfile.ZipFile(local_zip, 'r')\n",
        "zip_ref.extractall('/tmp/horse-or-human')\n",
        "local_zip = '/tmp/validation-horse-or-human.zip'\n",
        "zip_ref = zipfile.ZipFile(local_zip, 'r')\n",
        "zip_ref.extractall('/tmp/validation-horse-or-human')\n",
        "zip_ref.close()\n",
        "# Directory with our training horse pictures\n",
        "train_horse_dir = os.path.join('/tmp/horse-or-human/horses')\n",
        "\n",
        "# Directory with our training human pictures\n",
        "train_human_dir = os.path.join('/tmp/horse-or-human/humans')\n",
        "\n",
        "# Directory with our training horse pictures\n",
        "validation_horse_dir = os.path.join('/tmp/validation-horse-or-human/horses')\n",
        "\n",
        "# Directory with our training human pictures\n",
        "validation_human_dir = os.path.join('/tmp/validation-horse-or-human/humans')"
      ],
      "execution_count": 0,
      "outputs": [
        {
          "output_type": "stream",
          "text": [
            "--2019-09-05 13:55:04--  https://storage.googleapis.com/laurencemoroney-blog.appspot.com/horse-or-human.zip\n",
            "Resolving storage.googleapis.com (storage.googleapis.com)... 172.217.31.144, 2404:6800:4004:80a::2010\n",
            "Connecting to storage.googleapis.com (storage.googleapis.com)|172.217.31.144|:443... connected.\n",
            "HTTP request sent, awaiting response... 200 OK\n",
            "Length: 149574867 (143M) [application/zip]\n",
            "Saving to: ‘/tmp/horse-or-human.zip’\n",
            "\n",
            "/tmp/horse-or-human 100%[===================>] 142.65M   119MB/s    in 1.2s    \n",
            "\n",
            "2019-09-05 13:55:05 (119 MB/s) - ‘/tmp/horse-or-human.zip’ saved [149574867/149574867]\n",
            "\n",
            "--2019-09-05 13:55:07--  https://storage.googleapis.com/laurencemoroney-blog.appspot.com/validation-horse-or-human.zip\n",
            "Resolving storage.googleapis.com (storage.googleapis.com)... 172.217.31.144, 2404:6800:4004:80a::2010\n",
            "Connecting to storage.googleapis.com (storage.googleapis.com)|172.217.31.144|:443... connected.\n",
            "HTTP request sent, awaiting response... 200 OK\n",
            "Length: 11480187 (11M) [application/zip]\n",
            "Saving to: ‘/tmp/validation-horse-or-human.zip’\n",
            "\n",
            "/tmp/validation-hor 100%[===================>]  10.95M  38.2MB/s    in 0.3s    \n",
            "\n",
            "2019-09-05 13:55:08 (38.2 MB/s) - ‘/tmp/validation-horse-or-human.zip’ saved [11480187/11480187]\n",
            "\n"
          ],
          "name": "stdout"
        }
      ]
    },
    {
      "cell_type": "markdown",
      "metadata": {
        "colab_type": "text",
        "id": "5oqBkNBJmtUv"
      },
      "source": [
        "## Building a Small Model from Scratch\n",
        "\n",
        "But before we continue, let's start defining the model:\n",
        "\n",
        "Step 1 will be to import tensorflow."
      ]
    },
    {
      "cell_type": "code",
      "metadata": {
        "id": "qvfZg3LQbD-5",
        "colab_type": "code",
        "colab": {}
      },
      "source": [
        "import tensorflow as tf"
      ],
      "execution_count": 0,
      "outputs": []
    },
    {
      "cell_type": "markdown",
      "metadata": {
        "colab_type": "text",
        "id": "BnhYCP4tdqjC"
      },
      "source": [
        "We then add convolutional layers as in the previous example, and flatten the final result to feed into the densely connected layers."
      ]
    },
    {
      "cell_type": "markdown",
      "metadata": {
        "id": "gokG5HKpdtzm",
        "colab_type": "text"
      },
      "source": [
        "Finally we add the densely connected layers. \n",
        "\n",
        "Note that because we are facing a two-class classification problem, i.e. a *binary classification problem*, we will end our network with a [*sigmoid* activation](https://wikipedia.org/wiki/Sigmoid_function), so that the output of our network will be a single scalar between 0 and 1, encoding the probability that the current image is class 1 (as opposed to class 0)."
      ]
    },
    {
      "cell_type": "code",
      "metadata": {
        "id": "PixZ2s5QbYQ3",
        "colab_type": "code",
        "outputId": "5630e3b2-e84f-477c-da55-6afc3b930ff1",
        "colab": {
          "base_uri": "https://localhost:8080/",
          "height": 104
        }
      },
      "source": [
        "model = tf.keras.models.Sequential([\n",
        "    # Note the input shape is the desired size of the image 300x300 with 3 bytes color\n",
        "    # This is the first convolution\n",
        "    tf.keras.layers.Conv2D(16, (3,3), activation='relu', input_shape=(300, 300, 3)),\n",
        "    tf.keras.layers.MaxPooling2D(2, 2),\n",
        "    # The second convolution\n",
        "    tf.keras.layers.Conv2D(32, (3,3), activation='relu'),\n",
        "    tf.keras.layers.MaxPooling2D(2,2),\n",
        "    # The third convolution\n",
        "    tf.keras.layers.Conv2D(64, (3,3), activation='relu'),\n",
        "    tf.keras.layers.MaxPooling2D(2,2),\n",
        "    # The fourth convolution\n",
        "    tf.keras.layers.Conv2D(64, (3,3), activation='relu'),\n",
        "    tf.keras.layers.MaxPooling2D(2,2),\n",
        "    # The fifth convolution\n",
        "    tf.keras.layers.Conv2D(64, (3,3), activation='relu'),\n",
        "    tf.keras.layers.MaxPooling2D(2,2),\n",
        "    # Flatten the results to feed into a DNN\n",
        "    tf.keras.layers.Flatten(),\n",
        "    # 512 neuron hidden layer\n",
        "    tf.keras.layers.Dense(512, activation='relu'),\n",
        "    # Only 1 output neuron. It will contain a value from 0-1 where 0 for 1 class ('horses') and 1 for the other ('humans')\n",
        "    tf.keras.layers.Dense(1, activation='sigmoid')\n",
        "])"
      ],
      "execution_count": 0,
      "outputs": [
        {
          "output_type": "stream",
          "text": [
            "WARNING: Logging before flag parsing goes to stderr.\n",
            "W0905 13:55:28.048587 139634836973440 deprecation.py:506] From /usr/local/lib/python3.6/dist-packages/tensorflow/python/ops/init_ops.py:1251: calling VarianceScaling.__init__ (from tensorflow.python.ops.init_ops) with dtype is deprecated and will be removed in a future version.\n",
            "Instructions for updating:\n",
            "Call initializer instance with the dtype argument instead of passing it to the constructor\n"
          ],
          "name": "stderr"
        }
      ]
    },
    {
      "cell_type": "code",
      "metadata": {
        "colab_type": "code",
        "id": "8DHWhFP_uhq3",
        "outputId": "06c3a827-cc0d-4d63-d279-0b38efc9b5d4",
        "colab": {
          "base_uri": "https://localhost:8080/",
          "height": 87
        }
      },
      "source": [
        "from tensorflow.keras.optimizers import RMSprop\n",
        "\n",
        "model.compile(loss='binary_crossentropy',\n",
        "              optimizer=RMSprop(lr=1e-4),\n",
        "              metrics=['acc'])"
      ],
      "execution_count": 0,
      "outputs": [
        {
          "output_type": "stream",
          "text": [
            "W0905 13:55:37.841955 139634836973440 deprecation.py:323] From /usr/local/lib/python3.6/dist-packages/tensorflow/python/ops/nn_impl.py:180: add_dispatch_support.<locals>.wrapper (from tensorflow.python.ops.array_ops) is deprecated and will be removed in a future version.\n",
            "Instructions for updating:\n",
            "Use tf.where in 2.0, which has the same broadcast rule as np.where\n"
          ],
          "name": "stderr"
        }
      ]
    },
    {
      "cell_type": "code",
      "metadata": {
        "colab_type": "code",
        "id": "ClebU9NJg99G",
        "outputId": "68f4aa03-2b74-4809-f9c1-b05cf25d5a03",
        "colab": {
          "base_uri": "https://localhost:8080/",
          "height": 50
        }
      },
      "source": [
        "from tensorflow.keras.preprocessing.image import ImageDataGenerator\n",
        "\n",
        "# All images will be rescaled by 1./255\n",
        "train_datagen = ImageDataGenerator(\n",
        "      rescale=1./255,\n",
        "      rotation_range=40,\n",
        "      width_shift_range=0.2,\n",
        "      height_shift_range=0.2,\n",
        "      shear_range=0.2,\n",
        "      zoom_range=0.2,\n",
        "      horizontal_flip=True,\n",
        "      fill_mode='nearest')\n",
        "\n",
        "validation_datagen = ImageDataGenerator(rescale=1/255)\n",
        "\n",
        "# Flow training images in batches of 128 using train_datagen generator\n",
        "train_generator = train_datagen.flow_from_directory(\n",
        "        '/tmp/horse-or-human/',  # This is the source directory for training images\n",
        "        target_size=(300, 300),  # All images will be resized to 150x150\n",
        "        batch_size=128,\n",
        "        # Since we use binary_crossentropy loss, we need binary labels\n",
        "        class_mode='binary')\n",
        "\n",
        "# Flow training images in batches of 128 using train_datagen generator\n",
        "validation_generator = validation_datagen.flow_from_directory(\n",
        "        '/tmp/validation-horse-or-human/',  # This is the source directory for training images\n",
        "        target_size=(300, 300),  # All images will be resized to 150x150\n",
        "        batch_size=32,\n",
        "        # Since we use binary_crossentropy loss, we need binary labels\n",
        "        class_mode='binary')"
      ],
      "execution_count": 0,
      "outputs": [
        {
          "output_type": "stream",
          "text": [
            "Found 1027 images belonging to 2 classes.\n",
            "Found 256 images belonging to 2 classes.\n"
          ],
          "name": "stdout"
        }
      ]
    },
    {
      "cell_type": "code",
      "metadata": {
        "colab_type": "code",
        "id": "Fb1_lgobv81m",
        "outputId": "75d460bb-9fd9-4b2b-d984-42f19188eae6",
        "colab": {
          "base_uri": "https://localhost:8080/",
          "height": 1000
        }
      },
      "source": [
        "history = model.fit_generator(\n",
        "      train_generator,\n",
        "      steps_per_epoch=8,  \n",
        "      epochs=100,\n",
        "      verbose=1,\n",
        "      validation_data = validation_generator,\n",
        "      validation_steps=8)"
      ],
      "execution_count": 0,
      "outputs": [
        {
          "output_type": "stream",
          "text": [
            "Epoch 1/100\n",
            "8/8 [==============================] - 21s 3s/step - loss: 0.6976 - acc: 0.5751 - val_loss: 0.6776 - val_acc: 0.5664\n",
            "Epoch 2/100\n",
            "8/8 [==============================] - 19s 2s/step - loss: 0.6790 - acc: 0.6018 - val_loss: 0.6662 - val_acc: 0.5508\n",
            "Epoch 3/100\n",
            "8/8 [==============================] - 19s 2s/step - loss: 0.6635 - acc: 0.6852 - val_loss: 0.6519 - val_acc: 0.5508\n",
            "Epoch 4/100\n",
            "8/8 [==============================] - 19s 2s/step - loss: 0.6324 - acc: 0.6696 - val_loss: 0.5928 - val_acc: 0.7227\n",
            "Epoch 5/100\n",
            "8/8 [==============================] - 19s 2s/step - loss: 0.5952 - acc: 0.7108 - val_loss: 0.7188 - val_acc: 0.5547\n",
            "Epoch 6/100\n",
            "8/8 [==============================] - 19s 2s/step - loss: 0.5422 - acc: 0.7230 - val_loss: 0.7127 - val_acc: 0.5859\n",
            "Epoch 7/100\n",
            "8/8 [==============================] - 22s 3s/step - loss: 0.5486 - acc: 0.7236 - val_loss: 0.7685 - val_acc: 0.5820\n",
            "Epoch 8/100\n",
            "8/8 [==============================] - 19s 2s/step - loss: 0.5541 - acc: 0.7230 - val_loss: 0.5444 - val_acc: 0.7422\n",
            "Epoch 9/100\n",
            "8/8 [==============================] - 19s 2s/step - loss: 0.4976 - acc: 0.7608 - val_loss: 0.6374 - val_acc: 0.6641\n",
            "Epoch 10/100\n",
            "8/8 [==============================] - 19s 2s/step - loss: 0.5521 - acc: 0.7408 - val_loss: 0.8221 - val_acc: 0.6055\n",
            "Epoch 11/100\n",
            "8/8 [==============================] - 19s 2s/step - loss: 0.5417 - acc: 0.7364 - val_loss: 0.8549 - val_acc: 0.6094\n",
            "Epoch 12/100\n",
            "8/8 [==============================] - 22s 3s/step - loss: 0.4769 - acc: 0.7695 - val_loss: 0.8845 - val_acc: 0.6094\n",
            "Epoch 13/100\n",
            "8/8 [==============================] - 17s 2s/step - loss: 0.4652 - acc: 0.7713 - val_loss: 0.7802 - val_acc: 0.6484\n",
            "Epoch 14/100\n",
            "8/8 [==============================] - 22s 3s/step - loss: 0.4755 - acc: 0.7812 - val_loss: 1.2938 - val_acc: 0.5664\n",
            "Epoch 15/100\n",
            "8/8 [==============================] - 17s 2s/step - loss: 0.5842 - acc: 0.7119 - val_loss: 1.2900 - val_acc: 0.5391\n",
            "Epoch 16/100\n",
            "8/8 [==============================] - 19s 2s/step - loss: 0.4450 - acc: 0.7864 - val_loss: 0.5639 - val_acc: 0.7852\n",
            "Epoch 17/100\n",
            "8/8 [==============================] - 22s 3s/step - loss: 0.4604 - acc: 0.7871 - val_loss: 1.0341 - val_acc: 0.6094\n",
            "Epoch 18/100\n",
            "8/8 [==============================] - 19s 2s/step - loss: 0.4894 - acc: 0.7508 - val_loss: 0.7872 - val_acc: 0.6680\n",
            "Epoch 19/100\n",
            "8/8 [==============================] - 19s 2s/step - loss: 0.4164 - acc: 0.7909 - val_loss: 1.1710 - val_acc: 0.6094\n",
            "Epoch 20/100\n",
            "8/8 [==============================] - 19s 2s/step - loss: 0.5150 - acc: 0.7853 - val_loss: 1.0125 - val_acc: 0.6289\n",
            "Epoch 21/100\n",
            "8/8 [==============================] - 19s 2s/step - loss: 0.4417 - acc: 0.8020 - val_loss: 1.2374 - val_acc: 0.6094\n",
            "Epoch 22/100\n",
            "8/8 [==============================] - 19s 2s/step - loss: 0.4900 - acc: 0.8009 - val_loss: 1.2581 - val_acc: 0.6016\n",
            "Epoch 23/100\n",
            "8/8 [==============================] - 22s 3s/step - loss: 0.4249 - acc: 0.7979 - val_loss: 1.4130 - val_acc: 0.5781\n",
            "Epoch 24/100\n",
            "8/8 [==============================] - 19s 2s/step - loss: 0.3789 - acc: 0.8154 - val_loss: 1.0394 - val_acc: 0.6484\n",
            "Epoch 25/100\n",
            "8/8 [==============================] - 19s 2s/step - loss: 0.5308 - acc: 0.7809 - val_loss: 1.0530 - val_acc: 0.6328\n",
            "Epoch 26/100\n",
            "8/8 [==============================] - 19s 2s/step - loss: 0.4097 - acc: 0.8131 - val_loss: 1.1434 - val_acc: 0.6328\n",
            "Epoch 27/100\n",
            "8/8 [==============================] - 19s 2s/step - loss: 0.3691 - acc: 0.8387 - val_loss: 1.8236 - val_acc: 0.5547\n",
            "Epoch 28/100\n",
            "8/8 [==============================] - 21s 3s/step - loss: 0.3832 - acc: 0.8311 - val_loss: 1.7525 - val_acc: 0.5586\n",
            "Epoch 29/100\n",
            "8/8 [==============================] - 17s 2s/step - loss: 0.5061 - acc: 0.7868 - val_loss: 1.2414 - val_acc: 0.6289\n",
            "Epoch 30/100\n",
            "8/8 [==============================] - 19s 2s/step - loss: 0.4036 - acc: 0.8420 - val_loss: 1.5416 - val_acc: 0.5781\n",
            "Epoch 31/100\n",
            "8/8 [==============================] - 19s 2s/step - loss: 0.3530 - acc: 0.8576 - val_loss: 1.3108 - val_acc: 0.6328\n",
            "Epoch 32/100\n",
            "8/8 [==============================] - 22s 3s/step - loss: 0.3928 - acc: 0.8213 - val_loss: 1.2673 - val_acc: 0.6328\n",
            "Epoch 33/100\n",
            "8/8 [==============================] - 19s 2s/step - loss: 0.3847 - acc: 0.8220 - val_loss: 1.4560 - val_acc: 0.6211\n",
            "Epoch 34/100\n",
            "8/8 [==============================] - 19s 2s/step - loss: 0.3550 - acc: 0.8142 - val_loss: 1.6649 - val_acc: 0.5820\n",
            "Epoch 35/100\n",
            "8/8 [==============================] - 19s 2s/step - loss: 0.3845 - acc: 0.8287 - val_loss: 1.2703 - val_acc: 0.6367\n",
            "Epoch 36/100\n",
            "8/8 [==============================] - 19s 2s/step - loss: 0.3106 - acc: 0.8598 - val_loss: 1.0651 - val_acc: 0.6953\n",
            "Epoch 37/100\n",
            "8/8 [==============================] - 19s 2s/step - loss: 0.3447 - acc: 0.8409 - val_loss: 2.0427 - val_acc: 0.5469\n",
            "Epoch 38/100\n",
            "8/8 [==============================] - 19s 2s/step - loss: 0.3260 - acc: 0.8432 - val_loss: 1.5703 - val_acc: 0.6250\n",
            "Epoch 39/100\n",
            "8/8 [==============================] - 19s 2s/step - loss: 0.3272 - acc: 0.8476 - val_loss: 2.1391 - val_acc: 0.5469\n",
            "Epoch 40/100\n",
            "8/8 [==============================] - 19s 2s/step - loss: 0.3561 - acc: 0.8554 - val_loss: 1.6020 - val_acc: 0.5898\n",
            "Epoch 41/100\n",
            "8/8 [==============================] - 19s 2s/step - loss: 0.3003 - acc: 0.8610 - val_loss: 1.9134 - val_acc: 0.5781\n",
            "Epoch 42/100\n",
            "8/8 [==============================] - 19s 2s/step - loss: 0.3044 - acc: 0.8610 - val_loss: 2.1495 - val_acc: 0.5547\n",
            "Epoch 43/100\n",
            "8/8 [==============================] - 22s 3s/step - loss: 0.3077 - acc: 0.8721 - val_loss: 1.1203 - val_acc: 0.6875\n",
            "Epoch 44/100\n",
            "8/8 [==============================] - 19s 2s/step - loss: 0.4094 - acc: 0.8098 - val_loss: 1.6349 - val_acc: 0.5938\n",
            "Epoch 45/100\n",
            "8/8 [==============================] - 19s 2s/step - loss: 0.2854 - acc: 0.8865 - val_loss: 1.8628 - val_acc: 0.5938\n",
            "Epoch 46/100\n",
            "8/8 [==============================] - 19s 2s/step - loss: 0.3247 - acc: 0.8699 - val_loss: 0.7938 - val_acc: 0.7734\n",
            "Epoch 47/100\n",
            "8/8 [==============================] - 19s 2s/step - loss: 0.3090 - acc: 0.8665 - val_loss: 1.7836 - val_acc: 0.6094\n",
            "Epoch 48/100\n",
            "8/8 [==============================] - 19s 2s/step - loss: 0.3110 - acc: 0.8587 - val_loss: 1.7618 - val_acc: 0.5938\n",
            "Epoch 49/100\n",
            "8/8 [==============================] - 21s 3s/step - loss: 0.2472 - acc: 0.9023 - val_loss: 2.1112 - val_acc: 0.5781\n",
            "Epoch 50/100\n",
            "8/8 [==============================] - 19s 2s/step - loss: 0.3832 - acc: 0.8443 - val_loss: 1.7747 - val_acc: 0.5898\n",
            "Epoch 51/100\n",
            "8/8 [==============================] - 19s 2s/step - loss: 0.2453 - acc: 0.8966 - val_loss: 2.2144 - val_acc: 0.5664\n",
            "Epoch 52/100\n",
            "8/8 [==============================] - 19s 2s/step - loss: 0.3205 - acc: 0.8710 - val_loss: 1.6604 - val_acc: 0.6133\n",
            "Epoch 53/100\n",
            "8/8 [==============================] - 19s 2s/step - loss: 0.3112 - acc: 0.8776 - val_loss: 2.1593 - val_acc: 0.5703\n",
            "Epoch 54/100\n",
            "8/8 [==============================] - 19s 2s/step - loss: 0.3191 - acc: 0.8799 - val_loss: 2.5140 - val_acc: 0.5547\n",
            "Epoch 55/100\n",
            "8/8 [==============================] - 19s 2s/step - loss: 0.2316 - acc: 0.8999 - val_loss: 2.9177 - val_acc: 0.5273\n",
            "Epoch 56/100\n",
            "8/8 [==============================] - 19s 2s/step - loss: 0.2274 - acc: 0.8988 - val_loss: 1.5549 - val_acc: 0.6328\n",
            "Epoch 57/100\n",
            "8/8 [==============================] - 19s 2s/step - loss: 0.2812 - acc: 0.8699 - val_loss: 2.3457 - val_acc: 0.5703\n",
            "Epoch 58/100\n",
            "8/8 [==============================] - 22s 3s/step - loss: 0.2253 - acc: 0.9023 - val_loss: 2.4049 - val_acc: 0.5664\n",
            "Epoch 59/100\n",
            "8/8 [==============================] - 19s 2s/step - loss: 0.2544 - acc: 0.8643 - val_loss: 2.0851 - val_acc: 0.5898\n",
            "Epoch 60/100\n",
            "8/8 [==============================] - 16s 2s/step - loss: 0.1924 - acc: 0.9109 - val_loss: 2.4976 - val_acc: 0.5664\n",
            "Epoch 61/100\n",
            "8/8 [==============================] - 22s 3s/step - loss: 0.2787 - acc: 0.8721 - val_loss: 2.3071 - val_acc: 0.5664\n",
            "Epoch 62/100\n",
            "8/8 [==============================] - 19s 2s/step - loss: 0.2823 - acc: 0.8654 - val_loss: 1.9960 - val_acc: 0.5859\n",
            "Epoch 63/100\n",
            "8/8 [==============================] - 19s 2s/step - loss: 0.2128 - acc: 0.8999 - val_loss: 2.0692 - val_acc: 0.6094\n",
            "Epoch 64/100\n",
            "8/8 [==============================] - 19s 2s/step - loss: 0.2850 - acc: 0.8632 - val_loss: 2.8949 - val_acc: 0.5352\n",
            "Epoch 65/100\n",
            "8/8 [==============================] - 22s 3s/step - loss: 0.2070 - acc: 0.9160 - val_loss: 2.3636 - val_acc: 0.5820\n",
            "Epoch 66/100\n",
            "8/8 [==============================] - 16s 2s/step - loss: 0.1607 - acc: 0.9212 - val_loss: 1.2782 - val_acc: 0.7070\n",
            "Epoch 67/100\n",
            "8/8 [==============================] - 19s 2s/step - loss: 0.2765 - acc: 0.8732 - val_loss: 3.3260 - val_acc: 0.5273\n",
            "Epoch 68/100\n",
            "8/8 [==============================] - 19s 2s/step - loss: 0.2179 - acc: 0.9121 - val_loss: 4.3728 - val_acc: 0.5000\n",
            "Epoch 69/100\n",
            "8/8 [==============================] - 19s 2s/step - loss: 0.1972 - acc: 0.9266 - val_loss: 4.6453 - val_acc: 0.5000\n",
            "Epoch 70/100\n",
            "8/8 [==============================] - 22s 3s/step - loss: 0.2464 - acc: 0.9014 - val_loss: 2.5501 - val_acc: 0.5820\n",
            "Epoch 71/100\n",
            "8/8 [==============================] - 19s 2s/step - loss: 0.2034 - acc: 0.9055 - val_loss: 1.9626 - val_acc: 0.6367\n",
            "Epoch 72/100\n",
            "8/8 [==============================] - 19s 2s/step - loss: 0.1838 - acc: 0.9177 - val_loss: 2.9005 - val_acc: 0.5625\n",
            "Epoch 73/100\n",
            "8/8 [==============================] - 19s 2s/step - loss: 0.2663 - acc: 0.8832 - val_loss: 4.3849 - val_acc: 0.5078\n",
            "Epoch 74/100\n",
            "8/8 [==============================] - 19s 2s/step - loss: 0.2210 - acc: 0.9099 - val_loss: 2.7310 - val_acc: 0.5820\n",
            "Epoch 75/100\n",
            "8/8 [==============================] - 22s 3s/step - loss: 0.1970 - acc: 0.9189 - val_loss: 3.7643 - val_acc: 0.5156\n",
            "Epoch 76/100\n",
            "8/8 [==============================] - 17s 2s/step - loss: 0.1947 - acc: 0.9121 - val_loss: 3.0124 - val_acc: 0.5547\n",
            "Epoch 77/100\n",
            "8/8 [==============================] - 22s 3s/step - loss: 0.2046 - acc: 0.9199 - val_loss: 3.5524 - val_acc: 0.5234\n",
            "Epoch 78/100\n",
            "8/8 [==============================] - 16s 2s/step - loss: 0.1994 - acc: 0.9070 - val_loss: 4.0477 - val_acc: 0.5195\n",
            "Epoch 79/100\n",
            "8/8 [==============================] - 22s 3s/step - loss: 0.2173 - acc: 0.9150 - val_loss: 3.1876 - val_acc: 0.5547\n",
            "Epoch 80/100\n",
            "8/8 [==============================] - 19s 2s/step - loss: 0.2022 - acc: 0.9043 - val_loss: 4.3312 - val_acc: 0.5078\n",
            "Epoch 81/100\n",
            "8/8 [==============================] - 19s 2s/step - loss: 0.1859 - acc: 0.9088 - val_loss: 3.6207 - val_acc: 0.5312\n",
            "Epoch 82/100\n",
            "8/8 [==============================] - 19s 2s/step - loss: 0.2280 - acc: 0.9110 - val_loss: 2.7263 - val_acc: 0.5586\n",
            "Epoch 83/100\n",
            "8/8 [==============================] - 19s 2s/step - loss: 0.1881 - acc: 0.9244 - val_loss: 3.1317 - val_acc: 0.5508\n",
            "Epoch 84/100\n",
            "8/8 [==============================] - 19s 2s/step - loss: 0.1360 - acc: 0.9433 - val_loss: 2.5341 - val_acc: 0.6250\n",
            "Epoch 85/100\n",
            "8/8 [==============================] - 22s 3s/step - loss: 0.1809 - acc: 0.9336 - val_loss: 2.3634 - val_acc: 0.6328\n",
            "Epoch 86/100\n",
            "8/8 [==============================] - 17s 2s/step - loss: 0.2300 - acc: 0.9018 - val_loss: 2.3289 - val_acc: 0.6055\n",
            "Epoch 87/100\n",
            "8/8 [==============================] - 22s 3s/step - loss: 0.2135 - acc: 0.9043 - val_loss: 2.2920 - val_acc: 0.6172\n",
            "Epoch 88/100\n",
            "8/8 [==============================] - 19s 2s/step - loss: 0.1582 - acc: 0.9366 - val_loss: 2.8214 - val_acc: 0.5898\n",
            "Epoch 89/100\n",
            "8/8 [==============================] - 19s 2s/step - loss: 0.4528 - acc: 0.8821 - val_loss: 2.7547 - val_acc: 0.5820\n",
            "Epoch 90/100\n",
            "8/8 [==============================] - 19s 2s/step - loss: 0.1285 - acc: 0.9577 - val_loss: 3.1084 - val_acc: 0.5664\n",
            "Epoch 91/100\n",
            "8/8 [==============================] - 19s 2s/step - loss: 0.1473 - acc: 0.9444 - val_loss: 3.2843 - val_acc: 0.5625\n",
            "Epoch 92/100\n",
            "8/8 [==============================] - 19s 2s/step - loss: 0.2880 - acc: 0.8977 - val_loss: 4.0976 - val_acc: 0.5312\n",
            "Epoch 93/100\n",
            "8/8 [==============================] - 19s 2s/step - loss: 0.1277 - acc: 0.9477 - val_loss: 3.4715 - val_acc: 0.5586\n",
            "Epoch 94/100\n",
            "8/8 [==============================] - 22s 3s/step - loss: 0.1825 - acc: 0.9336 - val_loss: 3.4739 - val_acc: 0.5469\n",
            "Epoch 95/100\n",
            "8/8 [==============================] - 17s 2s/step - loss: 0.1356 - acc: 0.9367 - val_loss: 3.9445 - val_acc: 0.5391\n",
            "Epoch 96/100\n",
            "8/8 [==============================] - 22s 3s/step - loss: 0.1438 - acc: 0.9434 - val_loss: 2.6508 - val_acc: 0.6211\n",
            "Epoch 97/100\n",
            "8/8 [==============================] - 19s 2s/step - loss: 0.1784 - acc: 0.9143 - val_loss: 4.4761 - val_acc: 0.5156\n",
            "Epoch 98/100\n",
            "8/8 [==============================] - 19s 2s/step - loss: 0.2850 - acc: 0.9232 - val_loss: 3.1914 - val_acc: 0.5742\n",
            "Epoch 99/100\n",
            "8/8 [==============================] - 19s 2s/step - loss: 0.1229 - acc: 0.9544 - val_loss: 3.1399 - val_acc: 0.5898\n",
            "Epoch 100/100\n",
            "8/8 [==============================] - 19s 2s/step - loss: 0.1272 - acc: 0.9410 - val_loss: 3.7546 - val_acc: 0.5547\n"
          ],
          "name": "stdout"
        }
      ]
    },
    {
      "cell_type": "code",
      "metadata": {
        "id": "7zNPRWOVJdOH",
        "colab_type": "code",
        "outputId": "598658f9-58db-4292-ca16-6366e61979bf",
        "colab": {
          "base_uri": "https://localhost:8080/",
          "height": 545
        }
      },
      "source": [
        "import matplotlib.pyplot as plt\n",
        "acc = history.history['acc']\n",
        "val_acc = history.history['val_acc']\n",
        "loss = history.history['loss']\n",
        "val_loss = history.history['val_loss']\n",
        "\n",
        "epochs = range(len(acc))\n",
        "\n",
        "plt.plot(epochs, acc, 'r', label='Training accuracy')\n",
        "plt.plot(epochs, val_acc, 'b', label='Validation accuracy')\n",
        "plt.title('Training and validation accuracy')\n",
        "\n",
        "plt.figure()\n",
        "\n",
        "plt.plot(epochs, loss, 'r', label='Training Loss')\n",
        "plt.plot(epochs, val_loss, 'b', label='Validation Loss')\n",
        "plt.title('Training and validation loss')\n",
        "plt.legend()\n",
        "\n",
        "plt.show()"
      ],
      "execution_count": 0,
      "outputs": [
        {
          "output_type": "display_data",
          "data": {
            "image/png": "[encoded data removed]",
            "text/plain": [
              "<Figure size 432x288 with 1 Axes>"
            ]
          },
          "metadata": {
            "tags": []
          }
        },
        {
          "output_type": "display_data",
          "data": {
            "image/png": "[encoded data removed]",
            "text/plain": [
              "<Figure size 432x288 with 1 Axes>"
            ]
          },
          "metadata": {
            "tags": []
          }
        }
      ]
    }
  ]
}